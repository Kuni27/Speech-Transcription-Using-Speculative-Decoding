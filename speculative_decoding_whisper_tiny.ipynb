{
 "cells": [
  {
   "cell_type": "code",
   "execution_count": 16,
   "id": "4ab1c25d-5adb-41f8-97af-40966be577e8",
   "metadata": {},
   "outputs": [],
   "source": [
    "import torch\n",
    "from transformers import AutoModelForSpeechSeq2Seq, AutoProcessor, AutoTokenizer\n",
    "\n",
    "device = \"cuda:0\" if torch.cuda.is_available() else \"cpu\"\n",
    "torch_dtype = torch.float16 if torch.cuda.is_available() else torch.float32\n",
    "\n",
    "model_id = \"openai/whisper-large-v2\"\n",
    "\n",
    "model = AutoModelForSpeechSeq2Seq.from_pretrained(\n",
    "    model_id,\n",
    "    torch_dtype=torch_dtype,\n",
    "    low_cpu_mem_usage=True,\n",
    "    use_safetensors=True,\n",
    "    attn_implementation=\"sdpa\",\n",
    ")\n",
    "model.to(device)\n",
    "\n",
    "processor = AutoProcessor.from_pretrained(model_id)"
   ]
  },
  {
   "cell_type": "code",
   "execution_count": 17,
   "id": "53344a80-3975-440a-9255-b9f30b765237",
   "metadata": {},
   "outputs": [],
   "source": [
    "from datasets import load_dataset\n",
    "\n",
    "dataset = load_dataset(\"mpanda27/voxpopuli_fi_pseudo_labelled\", \"fi\", split=\"test\")"
   ]
  },
  {
   "cell_type": "code",
   "execution_count": null,
   "id": "d9c8c3e1-89f4-4e09-b22f-fa609e2e8b7d",
   "metadata": {},
   "outputs": [],
   "source": [
    "output_dir = \"voxpopuli_audio_samples\"\n",
    "os.makedirs(output_dir, exist_ok=True)\n",
    "\n",
    "# Extract and save audio samples\n",
    "for idx, sample in enumerate(dataset):\n",
    "    # Assuming the audio column is named 'audio'\n",
    "    audio_data = sample[\"audio\"][\"array\"]\n",
    "    sample_rate = sample[\"audio\"][\"sampling_rate\"]\n",
    "    \n",
    "    # Save audio to a .wav file\n",
    "    output_file = os.path.join(output_dir, f\"sample_{idx}.wav\")\n",
    "    sf.write(output_file, audio_data, sample_rate)\n",
    "    print(f\"Saved: {output_file}\")\n",
    "\n",
    "    # Break after saving one file (remove this line to save all audio files)\n",
    "    if idx == 0:\n",
    "        break"
   ]
  },
  {
   "cell_type": "code",
   "execution_count": 18,
   "id": "d49fd0c2-f284-486c-ba9f-cab3c2a34e74",
   "metadata": {},
   "outputs": [],
   "source": [
    "import time\n",
    "\n",
    "def generate_with_time(model, inputs, **kwargs):\n",
    "    start_time = time.time()\n",
    "    outputs = model.generate(**inputs, **kwargs)\n",
    "    generation_time = time.time() - start_time\n",
    "    return outputs, generation_time"
   ]
  },
  {
   "cell_type": "code",
   "execution_count": 19,
   "id": "b691fddf-f096-4d43-bc88-a74909f13dc8",
   "metadata": {},
   "outputs": [
    {
     "name": "stderr",
     "output_type": "stream",
     "text": [
      "  0%|          | 0/199 [00:00<?, ?it/s]/scratch/user/shwetimasakshi/.conda/envs/gpt2_new/lib/python3.12/site-packages/transformers/models/whisper/tokenization_whisper.py:501: UserWarning: The private method `_normalize` is deprecated and will be removed in v5 of Transformers.You can normalize an input string using the Whisper English normalizer using the `normalize` method.\n",
      "  warnings.warn(\n",
      "100%|██████████| 199/199 [10:37<00:00,  3.20s/it]"
     ]
    },
    {
     "name": "stdout",
     "output_type": "stream",
     "text": [
      "620.0537178516388\n"
     ]
    },
    {
     "name": "stderr",
     "output_type": "stream",
     "text": [
      "\n"
     ]
    }
   ],
   "source": [
    "from tqdm import tqdm\n",
    "\n",
    "all_time = 0\n",
    "predictions = []\n",
    "references = []\n",
    "\n",
    "for sample in tqdm(dataset):\n",
    "    audio = sample[\"audio\"]\n",
    "    inputs = processor(audio[\"array\"], sampling_rate=audio[\"sampling_rate\"], return_tensors=\"pt\")\n",
    "    inputs = inputs.to(device=device, dtype=torch.float16)\n",
    "\n",
    "    output, gen_time = generate_with_time(model, inputs)\n",
    "    all_time += gen_time\n",
    "    predictions.append(processor.batch_decode(output, skip_special_tokens=True, normalize=True)[0])\n",
    "    references.append(processor.tokenizer._normalize(sample[\"normalized_text\"]))\n",
    "\n",
    "print(all_time)"
   ]
  },
  {
   "cell_type": "code",
   "execution_count": 5,
   "id": "36dd3062-8305-475c-b81d-5b13ca65de32",
   "metadata": {},
   "outputs": [
    {
     "name": "stdout",
     "output_type": "stream",
     "text": [
      "0.1504890895410083\n"
     ]
    }
   ],
   "source": [
    "from evaluate import load\n",
    "\n",
    "wer = load(\"wer\")\n",
    "\n",
    "print(wer.compute(predictions=predictions, references=references))"
   ]
  },
  {
   "cell_type": "markdown",
   "id": "bad37129-9de6-4dac-815f-640fa26790dc",
   "metadata": {},
   "source": [
    "### Whisper Model tiny"
   ]
  },
  {
   "cell_type": "code",
   "execution_count": 20,
   "id": "e1360b58-cbcc-4aae-a4b4-34b0de2039a8",
   "metadata": {},
   "outputs": [],
   "source": [
    "assistant_model_id = \"openai/whisper-tiny\"\n",
    "\n",
    "assistant_model = AutoModelForSpeechSeq2Seq.from_pretrained(\n",
    "    assistant_model_id,\n",
    "    torch_dtype=torch_dtype,\n",
    "    low_cpu_mem_usage=True,\n",
    "    use_safetensors=True,\n",
    "    attn_implementation=\"sdpa\",\n",
    ")\n",
    "\n",
    "assistant_model.to(device);\n",
    "  # Load the tokenizer for the assistant model"
   ]
  },
  {
   "cell_type": "code",
   "execution_count": 21,
   "id": "dd0cc6e1-02a7-4a71-837d-511c205a4cbf",
   "metadata": {},
   "outputs": [],
   "source": [
    "def assisted_generate_with_time(model, inputs, **kwargs):\n",
    "    start_time = time.time()\n",
    "    outputs = model.generate(**inputs, assistant_model=assistant_model, **kwargs)\n",
    "    generation_time = time.time() - start_time\n",
    "    return outputs, generation_time"
   ]
  },
  {
   "cell_type": "code",
   "execution_count": 22,
   "id": "04870a7a-cf94-4231-9917-09cecce2bc4e",
   "metadata": {},
   "outputs": [
    {
     "name": "stderr",
     "output_type": "stream",
     "text": [
      "  0%|          | 0/199 [00:00<?, ?it/s]From v4.47 onwards, when a model cache is to be returned, `generate` will return a `Cache` instance instead by default (as opposed to the legacy tuple of tuples format). If you want to keep returning the legacy format, please set `return_legacy_cache=True`.\n",
      "100%|██████████| 199/199 [09:14<00:00,  2.79s/it]"
     ]
    },
    {
     "name": "stdout",
     "output_type": "stream",
     "text": [
      "538.9085578918457\n"
     ]
    },
    {
     "name": "stderr",
     "output_type": "stream",
     "text": [
      "\n"
     ]
    }
   ],
   "source": [
    "all_time = 0\n",
    "predictions_distilled = []\n",
    "references = []\n",
    "\n",
    "for sample in tqdm(dataset):\n",
    "    audio = sample[\"audio\"]\n",
    "    inputs = processor(audio[\"array\"], sampling_rate=audio[\"sampling_rate\"], return_tensors=\"pt\")\n",
    "    inputs = inputs.to(device=device, dtype=torch.float16)\n",
    "\n",
    "    output, gen_time = assisted_generate_with_time(model, inputs)\n",
    "    all_time += gen_time\n",
    "    predictions_distilled.append(processor.batch_decode(output, skip_special_tokens=True, normalize=True)[0])\n",
    "    references.append(processor.tokenizer._normalize(sample[\"normalized_text\"]))\n",
    "\n",
    "print(all_time)"
   ]
  },
  {
   "cell_type": "code",
   "execution_count": 23,
   "id": "e46aeed9-dce1-40d9-8e1b-6fa0d11403fb",
   "metadata": {},
   "outputs": [
    {
     "name": "stdout",
     "output_type": "stream",
     "text": [
      "0.1619011788312014\n"
     ]
    }
   ],
   "source": [
    "print(wer.compute(predictions=predictions_distilled, references=references))"
   ]
  },
  {
   "cell_type": "code",
   "execution_count": null,
   "id": "04b1eac9-507b-45e0-88d8-5f8d6568365c",
   "metadata": {},
   "outputs": [],
   "source": []
  }
 ],
 "metadata": {
  "kernelspec": {
   "display_name": "Python 3 (ipykernel)",
   "language": "python",
   "name": "python3"
  },
  "language_info": {
   "codemirror_mode": {
    "name": "ipython",
    "version": 3
   },
   "file_extension": ".py",
   "mimetype": "text/x-python",
   "name": "python",
   "nbconvert_exporter": "python",
   "pygments_lexer": "ipython3",
   "version": "3.12.7"
  }
 },
 "nbformat": 4,
 "nbformat_minor": 5
}
